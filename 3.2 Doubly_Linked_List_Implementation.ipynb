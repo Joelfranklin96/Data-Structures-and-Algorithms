{
 "cells": [
  {
   "cell_type": "code",
   "execution_count": 3,
   "metadata": {},
   "outputs": [
    {
     "name": "stdout",
     "output_type": "stream",
     "text": [
      "node1 is <__main__.DoubleNode object at 0x000002207DF5EF40>\n",
      "node1.next is <__main__.DoubleNode object at 0x000002207DF5E7C0>\n",
      "node1.previous is None\n",
      "\n",
      "\n",
      "node2 is <__main__.DoubleNode object at 0x000002207DF5E7C0>\n",
      "node2.next is <__main__.DoubleNode object at 0x000002207DF5EBE0>\n",
      "node2.previous is <__main__.DoubleNode object at 0x000002207DF5EF40>\n",
      "\n",
      "\n",
      "node3 is <__main__.DoubleNode object at 0x000002207DF5EBE0>\n",
      "node3.next is <__main__.DoubleNode object at 0x000002207DF5EE20>\n",
      "node3.previous is <__main__.DoubleNode object at 0x000002207DF5E7C0>\n",
      "\n",
      "\n",
      "node4 is <__main__.DoubleNode object at 0x000002207DF5EE20>\n",
      "node4.next is <__main__.DoubleNode object at 0x000002207E004700>\n",
      "node4.previous is <__main__.DoubleNode object at 0x000002207DF5EBE0>\n",
      "\n",
      "\n",
      "node5 is <__main__.DoubleNode object at 0x000002207E004700>\n",
      "node5.next is None\n",
      "node5.previous is <__main__.DoubleNode object at 0x000002207DF5EE20>\n",
      "\n",
      "\n"
     ]
    }
   ],
   "source": [
    "class DoubleNode:\n",
    "    def __init__(self,value):\n",
    "        self.value = value\n",
    "        self.next = None\n",
    "        self.previous = None\n",
    "\n",
    "input_list = [1,2,3,4,5]\n",
    "head = None\n",
    "for x in input_list:\n",
    "    if head is None:\n",
    "         head = DoubleNode(x)\n",
    "    else:\n",
    "        a = head\n",
    "        while a.next:\n",
    "            a = a.next\n",
    "        a.next = DoubleNode(x)\n",
    "  \n",
    "a = head\n",
    "for x in range(len(input_list)-1):\n",
    "    a.next.previous = a\n",
    "    a = a.next\n",
    "    \n",
    "a = head\n",
    "count = 1\n",
    "while a:\n",
    "    print('node{} is {}'.format(count,a))\n",
    "    print('node{}.next is {}'.format(count,a.next))\n",
    "    print('node{}.previous is {}'.format(count,a.previous))\n",
    "    print('\\n')\n",
    "    a = a.next\n",
    "    count += 1"
   ]
  },
  {
   "cell_type": "code",
   "execution_count": null,
   "metadata": {},
   "outputs": [],
   "source": []
  }
 ],
 "metadata": {
  "kernelspec": {
   "display_name": "Python 3",
   "language": "python",
   "name": "python3"
  },
  "language_info": {
   "codemirror_mode": {
    "name": "ipython",
    "version": 3
   },
   "file_extension": ".py",
   "mimetype": "text/x-python",
   "name": "python",
   "nbconvert_exporter": "python",
   "pygments_lexer": "ipython3",
   "version": "3.8.5"
  }
 },
 "nbformat": 4,
 "nbformat_minor": 4
}
